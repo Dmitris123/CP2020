{
 "cells": [
  {
   "cell_type": "markdown",
   "metadata": {},
   "source": [
    "## Часть 1. Гауссовы квадратуры\n",
    "\n",
    "Метод Гауссовых квадратур является одним из методов численного интегрирования, который позволяет увеличить точность интегрирования, используя ортогональные полиномы и их корни в качестве узлов.\n",
    "\n",
    "$$\n",
    "\\int_a^b \\!  w(x)\\, f(x)\\, dx \\approx \\sum_{k=1}^n w_k \\, f(x_k) \\;,\n",
    "$$\n",
    "\n",
    "здесь $\\omega$ - функция весов, которая определят базис ортогональных полиномов, чьи корни используются в качестве узлов интегрирования. Если функция $f(x)$ является полиномом, тогда такой метод интегрирования даст *точное* решение интеграла."
   ]
  },
  {
   "cell_type": "markdown",
   "metadata": {},
   "source": [
    "Например, давайте посчитаем следующий интеграл:\n",
    "\n",
    "$$\n",
    "\\int_{-1}^1 (7x^3 - 8 x^2 - 3 x + 3) dx  \\label{eq1}\\tag{1}\n",
    "$$\n",
    "\n",
    "Здесь функция уже полиномиальна, поэтому возьмем весовую функцию $\\omega(x) = 1$. Тогда вычисление интеграла сводится к сумме корней полинома, соответствующих весовой функции $\\omega(x) = 1$. Например, здесь https://dlmf.nist.gov/18.3 вы можете увидеть, какой базис полиномов соответствует вашей весовой функции.\n",
    "\n",
    "Заметим, что нашей соответствуют полиномы Лежандра. Теперь, зайдем в документацию https://docs.scipy.org/doc/scipy/reference/special.html#orthogonal-polynomials. Функция *roots_legendre* сразу же выдаст корни полиномов Лежандра, а также веса к их корням (для полиномов Лежандра все эти веса равны единице)."
   ]
  },
  {
   "cell_type": "markdown",
   "metadata": {},
   "source": [
    "###  Задание 1.1"
   ]
  },
  {
   "cell_type": "markdown",
   "metadata": {},
   "source": [
    "1. Посчитайте точное значение интеграла ([1](#mjx-eqn-eq1)) \"руками\". Сравните его с полученным численным значением."
   ]
  },
  {
   "cell_type": "code",
   "execution_count": 43,
   "metadata": {},
   "outputs": [],
   "source": [
    "integral = 2/3"
   ]
  },
  {
   "cell_type": "markdown",
   "metadata": {},
   "source": [
    "2. Посчитайте значение интеграла ([1](#mjx-eqn-eq1)), используя обычный метод интегрирования на равномерной сетке (например, написанный вами в week_6_calculus). Оцените количество узлов, необходимых для достижения относительной точности $10^{-10}$."
   ]
  },
  {
   "cell_type": "code",
   "execution_count": null,
   "metadata": {},
   "outputs": [],
   "source": [
    "x1 = -1
x2 = 1

e = 1e-10

def func(x):
    return 7*x**3-8*x**2-3*x+3

true_integral = 2/3

def cent_int(f,a,b,eps):
    h = eps**0.5
    summ = 0
    xi = a + h/2
    while(xi < b):
        summ = summ + h*f(xi)
        xi = xi + h
    return summ

print ("cent_method_integral = ",cent_int(func,x1,x2,e))
print ("nodes = ", (x2-x1)/e**0.5)"
   ]
  },
  {
   "cell_type": "markdown",
   "metadata": {},
   "source": [
    "3. Посчитайте значение интеграла ([1](#mjx-eqn-eq1)), используя корни полинома Лежандра степени от 1 до 6 в качестве узлов (чтобы получить корни и веса используйте scipy.special.roots_legendre)"
   ]
  },
  {
   "cell_type": "code",
   "execution_count": null,
   "metadata": {},
   "outputs": [],
   "source": [
    "from scipy.special import roots_legendre 

def func(x):
    return 7*x**3-8*x**2-3*x+3



for n in range (1,7):
    nodes,weights = roots_legendre(n) 
    print ("n = ",n)
    print ("weigts: ", weights)
    print ("\n",sum(weights * func(nodes)),"\n")"
   ]
  },
  {
   "cell_type": "markdown",
   "metadata": {},
   "source": [
    "Сравните количество узлов, необходимых для достижения одинаковой точности в обоих чисенных методах.\n",
    "\n",
    "(20% итоговой оценки)"
   ]
  },
  {
   "cell_type": "code",
   "execution_count": null,
   "metadata": {},
   "outputs": [],
   "source": [
    "# количество узлов отличается на порядки"
   ]
  },
  {
   "cell_type": "markdown",
   "metadata": {},
   "source": [
    "###  Задание 1.2\n",
    "\n",
    "Вычислите значение того же интеграла, но на интервале от 0 до 10.\n",
    "\n",
    "$$\n",
    "\\int_{0}^{10} (7x^3 - 8 x^2 - 3 x + 3) dx \n",
    "$$\n",
    "\n",
    "Заметим, что больше нельзя использовать полиномы Лежанда, потому что они определены на интервале (-1, 1). Однако всегда можно произвести *аффинное преобразование* (преобразование не меняет область интегрирования) для того, чтобы перейти к желаемой системе координат.\n",
    "\n",
    "(20% итоговой оценки)"
   ]
  },
  {
   "cell_type": "code",
   "execution_count": null,
   "metadata": {},
   "outputs": [],
   "source": [
    "from scipy.special import jv 
from scipy.special import roots_chebyt
import numpy as np

integral = 1/2*np.pi*jv(0,2*np.pi)

print (integral)

def func2(x):
    return 1/2*np.cos(2*np.pi*x)

n = 1

fin = False # fin потому что так в конце старых американских фильмов писали, типа конец - условие завершения цикла

while (fin == False):
    nodes,weights = roots_chebyt(n) 
    summation = sum(weights * func2(nodes))
    print (summation)
    fin = (np.abs(summation-integral) < 1e-16)
    print (n)
    n = n + 1

# видим, что при шестнадцати узлах достигается такая точность"
   ]
  },
  {
   "cell_type": "markdown",
   "metadata": {},
   "source": [
    "Сравните результат с точным значением интеграла."
   ]
  },
  {
   "cell_type": "markdown",
   "metadata": {},
   "source": [
    "### Задание 1.3\n",
    "\n",
    "Вычислите значение следующиего интеграла:\n",
    "$$\n",
    "\\int_{0}^{2\\pi} \\frac{cos(x) dx }{\\sqrt{4\\pi^2 - x^2}}\n",
    "$$\n",
    "используя соответствующий базис ортогональных полиномов.\n",
    "Найдите степень полинома (количество узлов), при которой точность превысит ошибку плавающей точки.\n",
    "\n",
    "(20% итоговой оценки)"
   ]
  },
  {
   "cell_type": "code",
   "execution_count": null,
   "metadata": {},
   "outputs": [],
   "source": [
    "from scipy.special import jv 
from scipy.special import roots_chebyt
import numpy as np

integral = 1/2*np.pi*jv(0,2*np.pi)

print (integral)

def func2(x):
    return 1/2*np.cos(2*np.pi*x)

n = 1

fin = False # fin потому что так в конце старых американских фильмов писали, типа конец - условие завершения цикла

while (fin == False):
    nodes,weights = roots_chebyt(n) 
    summation = sum(weights * func2(nodes))
    print (summation)
    fin = (np.abs(summation-integral) < 1e-16)
    print (n)
    n = n + 1

# видим, что при шестнадцати узлах достигается такая точность"
   ]
  },
  {
   "cell_type": "markdown",
   "metadata": {},
   "source": [
    "## Часть 2. Уравение Фредгольма\n",
    "\n",
    "Существует два типа уравнений Фредгольма: \n",
    "\n",
    "1. Уравение Фредгольма первого рода:\n",
    "$$\n",
    "\\int_a^b \\! K(x, t)\\, \\color{blue}{f(t)} \\,dt = g(x)\n",
    "$$\n",
    "\n",
    "2. Уравнение Фредгольма второго рода:\n",
    "$$\n",
    "\\lambda \\int_a^b\\! K(x, t)\\, \\color{blue}{f(t)} \\, dt + g(x) = \\color{blue}{f(x)}\n",
    "$$\n",
    "\n",
    "Здесь функция $f(x)$ неизвестна, $K(x, t)$ - ядро уравнения, заданная функция $g(x)$ и $\\lambda$ - рациональное число.\n",
    "С точки зрения вычислений, уравение Фредгольма первого рода крайне неустойчиво. Далее мы рассмотрим только уравнение второго рода."
   ]
  },
  {
   "cell_type": "markdown",
   "metadata": {},
   "source": [
    "Основная идея - аппроксимировать интеграл некой квадратурной формулой\n",
    "\n",
    "$$\n",
    "\\int_a^b \\! \\xi(t)\\, dt \\approx \\sum_j^N w_j\\, \\xi(t_j)\n",
    "$$\n",
    "\n",
    "с подходящими весами $w_j$ и узлами $t_j$, $j=1, \\dots, N$. Точность аппроксимации контролируется $N$."
   ]
  },
  {
   "cell_type": "markdown",
   "metadata": {},
   "source": [
    "Таким образом, уравнение Фредгольма приближается следующим образом:\n",
    "\n",
    "$$\n",
    "\\lambda \\sum_j w_j\\, K(x, t_j)\\, \\color{blue}{f(t_j)} + g(x) = \\color{blue}{f(x)}\n",
    "$$\n",
    "\n",
    "Отметим, что $x$ - непрерывная переменная, в то время, как $t$ - дискретная."
   ]
  },
  {
   "cell_type": "markdown",
   "metadata": {},
   "source": [
    "Оценивая данное уравнение на сетке $x = t_k$, получаем\n",
    "\n",
    "$$\n",
    "\\lambda \\sum_j w_j \\, K_{k, j}\\, \\color{blue}{f_j} + g_k = \\color{blue}{f_k}\n",
    "$$\n",
    "\n",
    "где $f_j \\equiv f(t_j)$, $g_j \\equiv g(t_j)$ and $K_{k, j} \\equiv K(t_k, t_j)$. Это ничто иное, как система линейных алгебраических уравнений на вектор $\\color{blue}{f_j}$.\n",
    "\n",
    "Ее решение выдает значение неизвестной функции $f(x)$ в дискретных точках $x=t_j$ для $j=1, \\dots, N$."
   ]
  },
  {
   "cell_type": "markdown",
   "metadata": {},
   "source": [
    "### Задание 2.1\n",
    "\n",
    "Решите предложенное уравнение Фредгольма второго рода\n",
    "\n",
    "$$\n",
    "f(x) = \\sin(\\pi x)  + \\frac{1}{2} \\int_0^1\\! f(t) \\, dt\n",
    "$$\n",
    "\n",
    "Здесь $a, b = 0, 1$, $\\lambda = \\dfrac{1}{2}$, ядро $K(x, t) = 1$ и правая часть - $g(x) = \\sin(\\pi x)$.\n",
    "\n",
    "Точное решение (Сборник задач по интегральным уравнениям, 2006, стр. 5):\n",
    "\n",
    "$$\n",
    "f(x) = \\sin(\\pi x) + \\frac{2}{\\pi}\n",
    "$$"
   ]
  },
  {
   "cell_type": "markdown",
   "metadata": {},
   "source": [
    "Для нахождения интеграла воспользуйтесь Гауссовой квадратурой с весовой функцией $w(x) = 1$ на $(0, 1)$. Посмотрите на http://dlmf.nist.gov/18.3, и найдите соответствующую функцию в *scipy.special* (обратите внимание на область интегрирования).\n",
    "\n",
    "Сравните полученные значения функции с точным решением для разных значений $N$. На каком $N$ можно остановиться?\n",
    "\n",
    "(20% итоговой оценки)"
   ]
  },
  {
   "cell_type": "code",
   "execution_count": null,
   "metadata": {},
   "outputs": [],
   "source": [
    "import numpy as np
from scipy.special import roots_sh_legendre

def solution(x):
    return np.sin(np.pi*x) + 2/np.pi

def g(x):
    return np.sin(np.pi*x)

e = 1e-15 # хотел взять, как в прошлом задании, 1e-16, но при нём не выходит из цикла (почему?)

result_array = []
nodes_array = []

n = 1

fin = False

while ~fin:
    nodes, weights = roots_sh_legendre(n)
    int_matrix = np.empty([n, n])
    int_matrix[:] = weights
    M = np.eye(n) - 0.5 * int_matrix # eye - единичная матрица
    result_array.append(np.linalg.solve(M, g(nodes))) # append позволяет побращаться к последнему элементу массива (?)
    nodes_array.append(nodes)
    print (" n =", n,"---", "error =", np.linalg.norm(solution(nodes) - result_array[-1]))
    fin = (np.linalg.norm(solution(nodes) - result_array[-1]) < e)
    n = n + 1"
   ]
  },
  {
   "cell_type": "markdown",
   "metadata": {},
   "source": [
    "### Задание 2.2\n",
    "\n",
    "Очевидной проблемой предыдущего результата для $f(x)$ является то, что он возвращает решения на фиксированном наборе точек. Мы не контролируем их точное расположение.\n",
    "\n",
    "1. Для начала, попробуйте интерполировать значения, полученные в предыдущем пункте на равномерной сетке длиной 50. Можете использовать любой метод интерполяции. Сравните интерполяцию с точным значением."
   ]
  },
  {
   "cell_type": "code",
   "execution_count": null,
   "metadata": {},
   "outputs": [],
   "source": [
    "from scipy.interpolate import interp1d
import numpy as np
from scipy.special import roots_sh_legendre
import matplotlib.pyplot as plt


def solution(x):
    return np.sin(np.pi*x) + 2/np.pi

def g(x):
    return np.sin(np.pi*x)

e = 1e-15 # хотел взять, как в прошлом задании, 1e-16, но при нём не выходит из цикла (почему?)

result_array = []
nodes_array = []

n = 1

fin = False

while ~fin:
    nodes, weights = roots_sh_legendre(n)
    int_matrix = np.empty([n, n])
    int_matrix[:] = weights
    M = np.eye(n) - 0.5 * int_matrix # eye - единичная матрица
    result_array.append(np.linalg.solve(M, g(nodes))) # append позволяет побращаться к последнему элементу массива (?)
    nodes_array.append(nodes)
    #print (" n =", n,"---", "error =", np.linalg.norm(solution(nodes) - result_array[-1]))
    fin = (np.linalg.norm(solution(nodes) - result_array[-1]) < e)
    n = n + 1
    
x_lin = np.linspace(min(nodes_array[-1]), max(nodes_array[-1]), 100)
net = np.linspace(min(nodes_array[-1]), max(nodes_array[-1]), 50)
intrpl = interp1d(nodes_array[-1], result_array[-1])


plt.figure(figsize=(10,10))
plt.plot(x_lin, solution(x_lin), label='real')
plt.plot(x_lin, intrpl(x_lin), label='interpolation')
plt.xlabel('x')
plt.ylabel('interpl(x)')
plt.legend()
plt.show()

# по картинке видно, что кривовато интерполиует"
   ]
  },
  {
   "cell_type": "markdown",
   "metadata": {},
   "source": [
    "2. Теперь используйте следующую формулу, чтобы вычислить значение функции на той же равномерной сетке.\n",
    "\n",
    "$$\n",
    "f(x) = g(x) + \\lambda \\sum_j^N w_j\\, K(x, t_j)\\, f(t_j)\n",
    "$$\n",
    "\n",
    "Сравните эту интерполяцию с точным значением, а также с прямым интерполяционным методом.\n",
    "\n",
    "(20% итогой оценки)"
   ]
  },
  {
   "cell_type": "code",
   "execution_count": null,
   "metadata": {},
   "outputs": [],
   "source": [
    "# дальше идёт следующий пункт

n1 = len(result_array)
nodes, weights = roots_sh_legendre(n1)
def func(x):
    return g(x) + 0.5 * weights @ result_array[-1] # @ обозначает матричное умножение

plt.figure(figsize=(10,10))
plt.plot(x_lin, solution(x_lin), label='real')
plt.plot(x_lin, intrpl(x_lin), label='interpolation')
plt.plot(x_lin, func(x_lin), label='new interpolation')
plt.xlabel('x')
plt.ylabel('interpl(x)')
plt.legend()
plt.show()

# по картинке видно, что новая интерполяция работет гораздо лучше и почти совпадает с настоящим решениемy"
   ]
  }
 ],
 "metadata": {
  "kernelspec": {
   "display_name": "Python 3",
   "language": "python",
   "name": "python3"
  },
  "language_info": {
   "codemirror_mode": {
    "name": "ipython",
    "version": 3
   },
   "file_extension": ".py",
   "mimetype": "text/x-python",
   "name": "python",
   "nbconvert_exporter": "python",
   "pygments_lexer": "ipython3",
   "version": "3.7.1"
  }
 },
 "nbformat": 4,
 "nbformat_minor": 4
}
